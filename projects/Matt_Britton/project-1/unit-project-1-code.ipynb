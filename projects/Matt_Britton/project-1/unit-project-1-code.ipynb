{
 "cells": [
  {
   "cell_type": "markdown",
   "metadata": {},
   "source": [
    "# Project 1"
   ]
  },
  {
   "cell_type": "markdown",
   "metadata": {},
   "source": [
    "## Let's get started with our dataset"
   ]
  },
  {
   "cell_type": "code",
   "execution_count": null,
   "metadata": {
    "collapsed": false
   },
   "outputs": [],
   "source": [
    "import numpy as np\n",
    "import pandas as pd\n",
    "\n",
    "\n",
    "# Alternative: Get the dataset directly online...\n",
    "path = 'https://github.com/ga-students/DAT-NYC-37/blob/master/projects/unit-projects/project-1/assets/admissions.csv'\n",
    "\n",
    "\n",
    "df = pd.read_csv(path)\n",
    "\n",
    "df.head()"
   ]
  },
  {
   "cell_type": "markdown",
   "metadata": {},
   "source": [
    "#### 1. Create a data dictionary "
   ]
  },
  {
   "cell_type": "markdown",
   "metadata": {},
   "source": [
    "Variable | Description | Values | Type of Variable\n",
    "---| ---| ---\n",
    "Admit | Admitted to school? | 0 = not admitted 1 = admitted | boolean coded as number\n",
    "GRE | GRE Test Score | 200 - 800 | integer\n",
    "GPA | Grade Point Average at undergraduate institution | value from 0 to 4.0 | two-digit float\n",
    "Prestige | Ranking of undergraduate institution attended | 1 - 4, 1 is highest | integer\n"
   ]
  },
  {
   "cell_type": "markdown",
   "metadata": {},
   "source": [
    "#### 2. What is the outcome?"
   ]
  },
  {
   "cell_type": "markdown",
   "metadata": {},
   "source": [
    "The Admit variable is the outcome."
   ]
  },
  {
   "cell_type": "markdown",
   "metadata": {},
   "source": [
    "#### 3. What are the predictors/covariates? "
   ]
  },
  {
   "cell_type": "markdown",
   "metadata": {},
   "source": [
    "GRE, GPA, and Prestige are potential independent variables. Presumably, they have some predictive value."
   ]
  },
  {
   "cell_type": "markdown",
   "metadata": {},
   "source": [
    "#### 4. What timeframe is this data relevant for?"
   ]
  },
  {
   "cell_type": "markdown",
   "metadata": {},
   "source": [
    "Unknown, data source does not state"
   ]
  },
  {
   "cell_type": "markdown",
   "metadata": {},
   "source": [
    "#### 4. What is the hypothesis?"
   ]
  },
  {
   "cell_type": "markdown",
   "metadata": {},
   "source": [
    "A student's GRE sclore should correlate with the likelihood of admission into UCLA. In particular, there should be a positive correlation between the GRE Score and the Admit variable."
   ]
  },
  {
   "cell_type": "markdown",
   "metadata": {},
   "source": [
    "## Problem Statement"
   ]
  },
  {
   "cell_type": "markdown",
   "metadata": {},
   "source": [
    "### Exploratory Analysis Plan"
   ]
  },
  {
   "cell_type": "markdown",
   "metadata": {},
   "source": [
    "Using the lab from a class as a guide, create an exploratory analysis plan. "
   ]
  },
  {
   "cell_type": "markdown",
   "metadata": {},
   "source": [
    "#### 1. What are the goals of the exploratory analysis? "
   ]
  },
  {
   "cell_type": "markdown",
   "metadata": {
    "collapsed": true
   },
   "source": [
    "Determine the mean, median, mode, range, and standard deviation of the dataset, particularly the GRE and Admit variables which will be analyzed in a regression. Determine if there are outliers, missing or null data, and if the data is relatively complete through its range. For example, if there were zero or a trivial number of students with GREs above 600, that would indicate a problem with the dataset, or establish a caveat about the eventual model's predictivness for those scores. "
   ]
  },
  {
   "cell_type": "markdown",
   "metadata": {},
   "source": [
    "#### 2a. What are the assumptions of the distribution of data? "
   ]
  },
  {
   "cell_type": "markdown",
   "metadata": {},
   "source": [
    "That the GRE variable is normally distributed throughout the range 200-800, and that all values fall in this range. Unknown if the GRE is required for admission, so there may be nulls.\n",
    "\n",
    "The Admit variable is assumed to be a boolean determined by 0 = false and 1 = true. This is categorical data so the notion of a continuous density function does not apply."
   ]
  },
  {
   "cell_type": "markdown",
   "metadata": {},
   "source": [
    "#### 2b. How will you determine the distribution of your data? "
   ]
  },
  {
   "cell_type": "markdown",
   "metadata": {
    "collapsed": true
   },
   "source": [
    "Run a box and whiskers plot of the 4 variables to visualize the median and quartiles. Then, run a histogram of each variable in turn to get a more detailed view of the distribution. "
   ]
  },
  {
   "cell_type": "markdown",
   "metadata": {},
   "source": [
    "#### 3a. How might outliers impact your analysis? "
   ]
  },
  {
   "cell_type": "markdown",
   "metadata": {
    "collapsed": true
   },
   "source": [
    "Outlying GRE scores might skew the average (particularly the mean) GRE for a particular admit status. "
   ]
  },
  {
   "cell_type": "markdown",
   "metadata": {},
   "source": [
    "#### 3b. How will you test for outliers? "
   ]
  },
  {
   "cell_type": "markdown",
   "metadata": {},
   "source": [
    "Review the box plot and histogram pulled in 2b above. Visually identify outliers, and if necessary, slice the dataframe to return values within extreme ranges."
   ]
  },
  {
   "cell_type": "markdown",
   "metadata": {},
   "source": [
    "#### 4a. What is collinearity? "
   ]
  },
  {
   "cell_type": "markdown",
   "metadata": {
    "collapsed": true
   },
   "source": [
    "When two independent variables have a high correlation, i.e. a variation in one generally results in a variation in the other. This can occur because the two variables measure the same thing, e.g. Variable A = Class Rank and Variable B = GPA. In this case, one variable is probably unnecessary. Alternatively, two variables can be related, but not identical, e.g. GRE and Prestige in this example. One would expect that students from more prestigious schools have higher GRE scores on average, but that these variables would not correlate exactly. When running a regression to determine both of their impacts on admit score, then, it is necessary to either exclude one variable, or take additional steps to analyze the relationship between the two collinear independent variables."
   ]
  },
  {
   "cell_type": "markdown",
   "metadata": {},
   "source": [
    "#### 4b. How will you test for collinearity? "
   ]
  },
  {
   "cell_type": "markdown",
   "metadata": {},
   "source": [
    "Run a correlation matrix (as a dataframe or heatmap) of all variables in the dataset and look for numbers near -1 or +1. "
   ]
  },
  {
   "cell_type": "markdown",
   "metadata": {},
   "source": [
    "#### 5. What is your exploratory analysis plan?\n",
    "Using the above information, write an exploratory analysis plan that would allow you or a colleague to reproduce your analysis one year from now. "
   ]
  },
  {
   "cell_type": "markdown",
   "metadata": {},
   "source": [
    "1. Query the data into a dataframe\n",
    "2. Use df.loc() to identify null values in each of the variables. Exclude these rows if the numbers are small, otherwise develop a plan to pull additional data or recode the nulls.\n",
    "3. Use matplotlib's boxplot to review the distribution of data. Identify outliers, values outside of the valid range. \n",
    "4. Run corr() to create a correlation matrix and note any relationships with a correlation near -1 or +1. \n",
    "5. Determine if the variables have a normal distribution. Run a histogram of each variable, and then kurtosis() and skew() if necessary."
   ]
  }
 ],
 "metadata": {
  "kernelspec": {
   "display_name": "Python 3",
   "language": "python",
   "name": "python3"
  },
  "language_info": {
   "codemirror_mode": {
    "name": "ipython",
    "version": 3
   },
   "file_extension": ".py",
   "mimetype": "text/x-python",
   "name": "python",
   "nbconvert_exporter": "python",
   "pygments_lexer": "ipython3",
   "version": "3.5.0"
  }
 },
 "nbformat": 4,
 "nbformat_minor": 0
}
